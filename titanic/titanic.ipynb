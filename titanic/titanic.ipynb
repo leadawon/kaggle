{
 "cells": [
  {
   "cell_type": "code",
   "execution_count": 148,
   "metadata": {},
   "outputs": [
    {
     "name": "stdout",
     "output_type": "stream",
     "text": [
      "<class 'pandas.core.frame.DataFrame'>\n",
      "RangeIndex: 891 entries, 0 to 890\n",
      "Data columns (total 12 columns):\n",
      " #   Column       Non-Null Count  Dtype  \n",
      "---  ------       --------------  -----  \n",
      " 0   PassengerId  891 non-null    int64  \n",
      " 1   Survived     891 non-null    int64  \n",
      " 2   Pclass       891 non-null    int64  \n",
      " 3   Name         891 non-null    object \n",
      " 4   Sex          891 non-null    object \n",
      " 5   Age          714 non-null    float64\n",
      " 6   SibSp        891 non-null    int64  \n",
      " 7   Parch        891 non-null    int64  \n",
      " 8   Ticket       891 non-null    object \n",
      " 9   Fare         891 non-null    float64\n",
      " 10  Cabin        204 non-null    object \n",
      " 11  Embarked     889 non-null    object \n",
      "dtypes: float64(2), int64(5), object(5)\n",
      "memory usage: 83.7+ KB\n",
      "Index(['Pclass', 'Sex', 'Age', 'SibSp', 'Parch'], dtype='object')\n"
     ]
    }
   ],
   "source": [
    "import numpy as np # linear algebra\n",
    "import pandas as pd # data processing, CSV file I/O (e.g. pd.read_csv)\n",
    "datas = pd.read_csv(\"train.csv\")\n",
    "datas.head()\n",
    "datas.info()\n",
    "y_col = \"Survived\"\n",
    "x_cols = datas.columns.drop([\"PassengerId\",\"Survived\",\"Name\",\"Ticket\",\"Fare\",\"Cabin\",\"Embarked\"])\n",
    "print(x_cols)\n",
    "#!pip install autograd\n",
    "#!pip install sklearn\n",
    "from autograd import numpy\n",
    "from autograd import grad"
   ]
  },
  {
   "cell_type": "code",
   "execution_count": 149,
   "metadata": {},
   "outputs": [
    {
     "name": "stderr",
     "output_type": "stream",
     "text": [
      "c:\\Program Files\\Python37\\lib\\site-packages\\ipykernel_launcher.py:3: SettingWithCopyWarning: \n",
      "A value is trying to be set on a copy of a slice from a DataFrame\n",
      "\n",
      "See the caveats in the documentation: https://pandas.pydata.org/pandas-docs/stable/user_guide/indexing.html#returning-a-view-versus-a-copy\n",
      "  This is separate from the ipykernel package so we can avoid doing imports until\n",
      "c:\\Program Files\\Python37\\lib\\site-packages\\ipykernel_launcher.py:5: SettingWithCopyWarning: \n",
      "A value is trying to be set on a copy of a slice from a DataFrame\n",
      "\n",
      "See the caveats in the documentation: https://pandas.pydata.org/pandas-docs/stable/user_guide/indexing.html#returning-a-view-versus-a-copy\n",
      "  \"\"\"\n"
     ]
    },
    {
     "name": "stdout",
     "output_type": "stream",
     "text": [
      "   PassengerId  Survived  Pclass  \\\n",
      "0            1         0       3   \n",
      "1            2         1       1   \n",
      "2            3         1       3   \n",
      "3            4         1       1   \n",
      "4            5         0       3   \n",
      "\n",
      "                                                Name Sex   Age  SibSp  Parch  \\\n",
      "0                            Braund, Mr. Owen Harris   0  22.0      1      0   \n",
      "1  Cumings, Mrs. John Bradley (Florence Briggs Th...   1  38.0      1      0   \n",
      "2                             Heikkinen, Miss. Laina   1  26.0      0      0   \n",
      "3       Futrelle, Mrs. Jacques Heath (Lily May Peel)   1  35.0      1      0   \n",
      "4                           Allen, Mr. William Henry   0  35.0      0      0   \n",
      "\n",
      "             Ticket     Fare Cabin Embarked  \n",
      "0         A/5 21171   7.2500   NaN        S  \n",
      "1          PC 17599  71.2833   C85        C  \n",
      "2  STON/O2. 3101282   7.9250   NaN        S  \n",
      "3            113803  53.1000  C123        S  \n",
      "4            373450   8.0500   NaN        S  \n",
      "x.s=(891, 6) y.s=(891,)\n"
     ]
    },
    {
     "name": "stderr",
     "output_type": "stream",
     "text": [
      "c:\\Program Files\\Python37\\lib\\site-packages\\ipykernel_launcher.py:11: SettingWithCopyWarning: \n",
      "A value is trying to be set on a copy of a slice from a DataFrame\n",
      "\n",
      "See the caveats in the documentation: https://pandas.pydata.org/pandas-docs/stable/user_guide/indexing.html#returning-a-view-versus-a-copy\n",
      "  # This is added back by InteractiveShellApp.init_path()\n"
     ]
    }
   ],
   "source": [
    "for i in range(len(datas[\"Sex\"])):\n",
    "    if datas[\"Sex\"][i] == \"male\":\n",
    "        datas[\"Sex\"][i] = 0\n",
    "    else:\n",
    "        datas[\"Sex\"][i] = 1\n",
    "\n",
    "mean_of_age=datas['Age'].mean()\n",
    "isnalst = datas[\"Age\"].isna()\n",
    "for i in range(len(isnalst)):\n",
    "    if isnalst[i]:\n",
    "        datas[\"Age\"][i] = mean_of_age\n",
    "\n",
    "print(datas.head())\n",
    "\n",
    "from sklearn.preprocessing import MinMaxScaler\n",
    "min_max_scaler = MinMaxScaler()\n",
    "X_scaled = min_max_scaler.fit_transform(datas[x_cols])\n",
    "X_scaled = numpy.hstack((numpy.ones((X_scaled.shape[0],1)),X_scaled))\n",
    "\n",
    "y = datas[y_col].values\n",
    "\n",
    "print(f\"x.s={X_scaled.shape} y.s={y.shape}\")\n"
   ]
  },
  {
   "cell_type": "code",
   "execution_count": 150,
   "metadata": {},
   "outputs": [],
   "source": [
    "def logistic(z):\n",
    "    return 1/(1+numpy.exp(-z))\n",
    "def logistic_model(params,x):\n",
    "    z = numpy.dot(X_scaled,params)\n",
    "    y = logistic(z)\n",
    "    return y\n",
    "def log_loss(params,model,x,y,_lambda=1.0):\n",
    "    y_pred = model(params,x)\n",
    "\n",
    "    return -numpy.mean(y * numpy.log(y_pred) + (1-y) * numpy.log(1 - y_pred)) \\\n",
    "#+ _lambda * numpy.sum(params[1:]**2)"
   ]
  },
  {
   "cell_type": "code",
   "execution_count": 151,
   "metadata": {},
   "outputs": [],
   "source": [
    "gradient = grad(log_loss)"
   ]
  },
  {
   "cell_type": "code",
   "execution_count": 152,
   "metadata": {},
   "outputs": [
    {
     "data": {
      "text/plain": [
       "function"
      ]
     },
     "execution_count": 152,
     "metadata": {},
     "output_type": "execute_result"
    }
   ],
   "source": [
    "type(gradient)"
   ]
  },
  {
   "cell_type": "code",
   "execution_count": 153,
   "metadata": {},
   "outputs": [
    {
     "name": "stdout",
     "output_type": "stream",
     "text": [
      "[0. 0. 0. 0. 0. 0.]\n",
      "--[-0.09468297 -0.12768749  0.08991835 -0.04054402 -0.00856585 -0.000856  ]--\n",
      "--[-1.56716285e-01 -2.28714957e-01  1.85338919e-01 -6.93418158e-02\n",
      " -1.50454933e-02  1.46325427e-05]--\n",
      "--[-0.19787396 -0.31177371  0.28219864 -0.09065067 -0.02023728  0.00185386]--\n",
      "--[-0.22563405 -0.38243907  0.37804639 -0.10717258 -0.02464472  0.00418953]--\n",
      "--[-0.24473625 -0.44429468  0.47143687 -0.12061804 -0.02858416  0.00672979]--\n",
      "--[-0.25819686 -0.49967234  0.56155378 -0.13207349 -0.03225452  0.0092957 ]--\n",
      "--[-0.26794426 -0.55011421  0.64797641 -0.14223139 -0.03578065  0.01177947]--\n",
      "--[-0.27521601 -0.59665992  0.73053275 -0.15153419 -0.0392405   0.01411828]--\n",
      "--[-0.28080868 -0.64002588  0.80920556 -0.16026485 -0.04268216  0.01627774]--\n",
      "--[-0.28523622 -0.68071838  0.88407185 -0.16860436 -0.04613469  0.01824141]--\n",
      "--[-0.28883112 -0.7191055   0.95526384 -0.17666838 -0.04961504  0.02000401]--\n",
      "--[-0.29180912 -0.75546324  1.0229438  -0.18453072 -0.05313248  0.0215671 ]--\n",
      "--[-0.29431089 -0.7900052   1.08728794 -0.19223843 -0.05669146  0.02293631]--\n",
      "--[-0.29642876 -0.82290194  1.14847642 -0.19982148 -0.06029341  0.02411955]--\n",
      "--[-0.298224   -0.85429363  1.20668706 -0.20729896 -0.06393796  0.02512589]--\n",
      "--[-0.29973795 -0.88429841  1.26209169 -0.21468312 -0.06762364  0.02596488]--\n",
      "--[-0.30099912 -0.91301805  1.31485414 -0.22198192 -0.07134839  0.02664608]--\n",
      "--[-0.30202788 -0.94054173  1.36512922 -0.22920064 -0.07510983  0.0271788 ]--\n",
      "--[-0.30283937 -0.96694866  1.41306236 -0.23634294 -0.0789055   0.02757199]--\n",
      "--[-0.30344542 -0.99231     1.45878968 -0.24341155 -0.0827329   0.02783414]--\n",
      "--[-0.30385574 -1.01669017  1.50243833 -0.25040862 -0.08658961  0.02797323]--\n",
      "--[-0.30407873 -1.04014786  1.54412688 -0.25733601 -0.09047334  0.02799676]--\n",
      "--[-0.30412192 -1.06273684  1.58396585 -0.26419546 -0.09438189  0.02791172]--\n",
      "--[-0.3039923  -1.08450649  1.62205825 -0.27098864 -0.09831321  0.02772468]--\n",
      "--[-0.30369648 -1.10550237  1.65850007 -0.27771722 -0.10226538  0.02744172]--\n",
      "--[-0.30324082 -1.12576655  1.69338086 -0.28438289 -0.1062366   0.02706854]--\n",
      "--[-0.3026315  -1.14533802  1.72678416 -0.29098735 -0.11022522  0.02661044]--\n",
      "--[-0.30187451 -1.16425295  1.75878799 -0.29753237 -0.11422966  0.02607239]--\n",
      "--[-0.30097572 -1.18254493  1.78946523 -0.3040197  -0.11824849  0.02545901]--\n",
      "--[-0.29994086 -1.20024524  1.81888409 -0.31045112 -0.12228036  0.02477463]--\n"
     ]
    }
   ],
   "source": [
    "max_iter = 3000\n",
    "alpha = 0.01\n",
    "params = numpy.zeros(X_scaled.shape[1])\n",
    "descent = numpy.ones(X_scaled.shape[1])\n",
    "i = 0\n",
    "print(params)\n",
    "while (numpy.linalg.norm(descent) > 0.001 and i<max_iter):\n",
    "    descent = gradient(params,logistic_model,X_scaled,y)\n",
    "    params = params - descent * alpha\n",
    "    i += 1\n",
    "    if i%100 == 0:\n",
    "        print(f\"--{params}--\")"
   ]
  },
  {
   "cell_type": "code",
   "execution_count": 154,
   "metadata": {},
   "outputs": [],
   "source": [
    "def decision_boundary(y):\n",
    "    return 1 if y>=0.5 else 0"
   ]
  },
  {
   "cell_type": "code",
   "execution_count": 155,
   "metadata": {},
   "outputs": [],
   "source": [
    "decision_boundary = np.vectorize(decision_boundary)"
   ]
  },
  {
   "cell_type": "code",
   "execution_count": 156,
   "metadata": {},
   "outputs": [
    {
     "name": "stderr",
     "output_type": "stream",
     "text": [
      "c:\\Program Files\\Python37\\lib\\site-packages\\ipykernel_launcher.py:9: SettingWithCopyWarning: \n",
      "A value is trying to be set on a copy of a slice from a DataFrame\n",
      "\n",
      "See the caveats in the documentation: https://pandas.pydata.org/pandas-docs/stable/user_guide/indexing.html#returning-a-view-versus-a-copy\n",
      "  if __name__ == '__main__':\n",
      "c:\\Program Files\\Python37\\lib\\site-packages\\ipykernel_launcher.py:11: SettingWithCopyWarning: \n",
      "A value is trying to be set on a copy of a slice from a DataFrame\n",
      "\n",
      "See the caveats in the documentation: https://pandas.pydata.org/pandas-docs/stable/user_guide/indexing.html#returning-a-view-versus-a-copy\n",
      "  # This is added back by InteractiveShellApp.init_path()\n"
     ]
    },
    {
     "name": "stdout",
     "output_type": "stream",
     "text": [
      "[0 1 1 1 0 0 0 0 1 1 1 1 0 0 1 1 0 0 1 1 0 0 1 0 1 1 0 0 1 0 0 1 1 0 0 0 0\n",
      " 0 1 1 1 1 0 1 1 0 0 1 0 1 0 0 1 1 0 0 1 0 1 0 0 1 0 0 0 0 1 0 1 0 0 1 0 0\n",
      " 0 0 0 0 0 1 0 0 1 0 1 1 0 0 1 0 0 0 0 0 0 0 0 0 1 0 1 0 0 0 0 0 1 0 0 1 0\n",
      " 1 0 1 1 0 0 0 0 1 0 0 0 1 0 0 0 0 1 0 0 0 1 1 0 0 1 0 0 0 1 1 1 0 0 0 0 1\n",
      " 0 0 0 1 0 0 0 0 1 0 0 0 0 1 0 0 0 0 1 1 0 0 0 0 1 0 0 0 0 1 0 0 1 0 0 0 1\n",
      " 0 1 0 0 0 1 0 1 0 1 1 0 0 1 1 0 0 0 0 0 1 0 0 1 0 0 1 0 0 0 1 1 0 1 0 0 0\n",
      " 0 0 0 0 0 0 0 1 1 0 0 1 0 1 0 1 0 0 1 1 0 0 0 0 1 1 0 0 0 1 0 0 1 1 1 1 1\n",
      " 1 0 0 0 0 1 0 0 0 1 1 0 0 1 0 1 1 1 0 0 1 0 0 0 0 0 0 0 0 0 1 1 1 0 1 0 0\n",
      " 0 1 0 1 1 0 0 1 0 0 1 1 0 1 1 1 1 0 0 1 1 0 1 1 0 0 1 1 0 1 0 1 1 1 1 0 0\n",
      " 0 1 0 0 1 0 0 0 1 0 0 0 1 1 1 0 0 0 0 0 0 0 0 1 1 1 1 0 0 1 0 0 0 1 1 1 1\n",
      " 0 0 0 0 1 1 1 0 0 0 1 1 0 1 0 0 0 1 0 1 0 0 0 1 1 0 1 0 0 1 0 0 1 0 1 0 0\n",
      " 0 0 1 0 0 1 0 0 1 1 1 0 1 0 0 0 1 0 0 1 1 0 0 0 1 1 0 0 1 1 1 0 0 1 0 0 1\n",
      " 0 0 1 0 1 0 0 0 0 0 0 0 0 1 1 0 0 0 0 0 0 0 0 0 0 1 0 0 1 1 1 0 0 0 0 1 0\n",
      " 0 0 1 0 1 1 0 0 0 0 0 0 0 0 0 1 0 1 0 0 1 1 1 1 0 1 0 0 0 0 0 0 1 0 0 1 0\n",
      " 1 0 1 0 0 1 0 0 1 0 0 0 1 0 0 1 1 1 0 1 0 1 1 1 1 0 0 0 1 0 0 0 0 0 0 0 1\n",
      " 0 1 0 1 1 0 0 0 0 1 0 0 1 0 0 0 1 0 1 0 0 1 1 1 0 1 1 0 0 0 1 0 0 0 0 0 1\n",
      " 0 1 0 0 1 0 0 0 1 0 0 0 0 0 0 0 1 1 1 0 1 0 0 1 0 1 1 0 0 0 0 0 0 0 0 1 0\n",
      " 0 0 0 0 0 1 1 0 0 1 0 0 1 1 0 1 0 0 0 0 1 0 1 0 1 1 0 0 1 0 0 0 0 0 0 0 0\n",
      " 0 0 0 1 1 0 0 0 0 0 0 1 1 0 1 0 0 0 0 0 0 0 0 1 0 1 0 0 0 0 0 1 0 0 1 0 1\n",
      " 0 0 0 1 0 1 0 1 0 0 0 0 0 1 1 0 0 1 0 0 0 0 0 1 1 0 1 1 0 0 0 0 0 1 0 0 0\n",
      " 0 0 1 0 0 0 0 1 0 0 1 0 0 0 1 0 0 0 0 1 0 0 0 1 0 1 0 1 0 0 0 0 1 0 1 0 0\n",
      " 1 0 1 1 1 0 0 0 0 1 0 0 0 0 0 1 0 0 0 1 1 0 1 0 1 0 0 0 0 0 1 0 1 0 0 0 1\n",
      " 0 0 1 0 0 0 1 0 0 1 0 0 0 0 0 1 1 0 0 0 0 1 0 0 0 0 0 0 1 0 0 0 0 0 0 1 0\n",
      " 0 1 1 1 1 1 0 1 0 0 0 1 1 0 1 1 0 0 0 0 1 0 0 1 1 0 0 0 1 1 0 1 0 0 1 0 1\n",
      " 1 0 0]\n"
     ]
    },
    {
     "name": "stderr",
     "output_type": "stream",
     "text": [
      "c:\\Program Files\\Python37\\lib\\site-packages\\ipykernel_launcher.py:17: SettingWithCopyWarning: \n",
      "A value is trying to be set on a copy of a slice from a DataFrame\n",
      "\n",
      "See the caveats in the documentation: https://pandas.pydata.org/pandas-docs/stable/user_guide/indexing.html#returning-a-view-versus-a-copy\n"
     ]
    }
   ],
   "source": [
    "def classify(predictions):\n",
    "    return decision_boundary(predictions).flatten()\n",
    "\n",
    "tdatas=pd.read_csv(\"test.csv\")\n",
    "xt_cols = tdatas.columns.drop([\"PassengerId\",\"Name\",\"Ticket\",\"Fare\",\"Cabin\",\"Embarked\"])\n",
    "\n",
    "for i in range(len(tdatas[\"Sex\"])):\n",
    "    if tdatas[\"Sex\"][i] == \"male\":\n",
    "        tdatas[\"Sex\"][i] = 0\n",
    "    else:\n",
    "        tdatas[\"Sex\"][i] = 1\n",
    "\n",
    "mean_of_age=tdatas['Age'].mean()\n",
    "isnalst = tdatas[\"Age\"].isna()\n",
    "for i in range(len(isnalst)):\n",
    "    if isnalst[i]:\n",
    "        tdatas[\"Age\"][i] = mean_of_age\n",
    "\n",
    "Xt_scaled = min_max_scaler.fit_transform(tdatas[xt_cols])\n",
    "Xt_scaled = numpy.hstack((numpy.ones((Xt_scaled.shape[0],1)),Xt_scaled))\n",
    "dec = classify(logistic_model(params,Xt_scaled))\n",
    "print(dec)"
   ]
  },
  {
   "cell_type": "code",
   "execution_count": 160,
   "metadata": {},
   "outputs": [
    {
     "name": "stdout",
     "output_type": "stream",
     "text": [
      "     PassengerId  Survived\n",
      "0            892         0\n",
      "1            893         1\n",
      "2            894         1\n",
      "3            895         1\n",
      "4            896         0\n",
      "..           ...       ...\n",
      "413         1305         0\n",
      "414         1306         0\n",
      "415         1307         1\n",
      "416         1308         1\n",
      "417         1309         1\n",
      "\n",
      "[418 rows x 2 columns]\n"
     ]
    }
   ],
   "source": [
    "odatas=pd.read_csv(\"gender_submission.csv\")\n",
    "\n",
    "for i in range(len(odatas[\"Survived\"])):\n",
    "    odatas[\"Survived\"][i] = dec[i]\n",
    "print(odatas)\n",
    "odatas.to_csv(\"./result.csv\",index=False)"
   ]
  }
 ],
 "metadata": {
  "kernelspec": {
   "display_name": "Python 3.7.5 64-bit",
   "language": "python",
   "name": "python3"
  },
  "language_info": {
   "codemirror_mode": {
    "name": "ipython",
    "version": 3
   },
   "file_extension": ".py",
   "mimetype": "text/x-python",
   "name": "python",
   "nbconvert_exporter": "python",
   "pygments_lexer": "ipython3",
   "version": "3.7.5"
  },
  "orig_nbformat": 4,
  "vscode": {
   "interpreter": {
    "hash": "5109d816b82be14675a6b11f8e0f0d2e80f029176ed3710d54e125caa8520dfd"
   }
  }
 },
 "nbformat": 4,
 "nbformat_minor": 2
}
